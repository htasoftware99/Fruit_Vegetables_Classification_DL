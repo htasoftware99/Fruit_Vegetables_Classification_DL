import tensorflow as tf
from tensorflow.keras.preprocessing.image import ImageDataGenerator
from tensorflow.keras.models import Sequential
from tensorflow.keras.layers import Conv2D, MaxPooling2D, Flatten, Dense, Dropout
import numpy as np


# ImageDataGenerator ile veri yükleme ve ön işleme
train_datagen = ImageDataGenerator(rescale=1./255, rotation_range=40, width_shift_range=0.2, height_shift_range=0.2, shear_range=0.2, zoom_range=0.2, horizontal_flip=True, fill_mode='nearest')
val_datagen = ImageDataGenerator(rescale=1./255)

train_generator = train_datagen.flow_from_directory('data/train', target_size=(150, 150), batch_size=32, class_mode='categorical')
val_generator = val_datagen.flow_from_directory('data/validation', target_size=(150, 150), batch_size=32, class_mode='categorical')



model = Sequential([
    Conv2D(32, (3, 3), activation='relu', input_shape=(150, 150, 3)),
    MaxPooling2D(2, 2),
    Conv2D(64, (3, 3), activation='relu'),
    MaxPooling2D(2, 2),
    Conv2D(128, (3, 3), activation='relu'),
    MaxPooling2D(2, 2),
    Conv2D(128, (3, 3), activation='relu'),
    MaxPooling2D(2, 2),
    Flatten(),
    Dense(512, activation='relu'),
    Dropout(0.5),
    Dense(36, activation='softmax')
])

model.compile(optimizer='adam', loss='categorical_crossentropy', metrics=['accuracy'])



model.summary()


model.compile(optimizer='adam', loss='categorical_crossentropy', metrics=['accuracy'])


history = model.fit(train_generator, epochs=150, validation_data=val_generator)


import seaborn as sns
import matplotlib.pyplot as plt
sns.set(style="darkgrid")
epochs=150
plt.plot(np.arange(0,epochs), history.history["loss"], label="train_loss")
plt.plot(np.arange(0,epochs), history.history["val_loss"], label="val_loss")
plt.plot(np.arange(0,epochs), history.history["accuracy"], label="train_accruracy")
plt.plot(np.arange(0,epochs), history.history["val_accuracy"], label="val_accuracy")
plt.title("model grafiği")
plt.xlabel("epochs")
plt.ylabel("loss & acc")
plt.legend()
plt.show()


model.save("best.keras")


from PIL import Image


model = tf.keras.models.load_model('best.keras')


def prepare_image(image_path):
    img = Image.open(image_path).resize((150, 150))  # Modelin beklediği boyut
    img = img.convert('RGB')  # Renkli formatta olmalı
    img_array = np.array(img) / 255.0  # Normalizasyon
    img_array = np.expand_dims(img_array, axis=0)  # Batch boyutunu ekleyin
    return img_array


def predict_image(image_path):
    img_array = prepare_image(image_path)
    predictions = model.predict(img_array)
    return predictions


image_path = '1.jpg'
predictions = predict_image(image_path)


class_names = [
    'apple', 'banana', 'beetroot', 'bell pepper', 'cabbage', 'capsicum', 
    'carrot', 'cauliflower', 'chilli pepper', 'corn', 'cucumber', 'eggplant', 
    'garlic', 'ginger', 'grapes', 'jalapeno', 'kiwi', 'lemon', 'lettuce', 
    'mango', 'onion', 'orange', 'paprika', 'pear', 'peas', 'pineapple', 
    'pomegranate', 'potato', 'radish', 'soy beans', 'spinach', 'sweetcorn', 
    'sweet potato', 'tomato', 'turnip', 'watermelon'
]


def get_prediction_result(predictions):
    predicted_class = np.argmax(predictions[0])
    predicted_label = class_names[predicted_class]
    confidence = predictions[0][predicted_class] * 100
    return predicted_label, confidence


predicted_label, confidence = get_prediction_result(predictions)


print(f"Tahmin: {predicted_label}")
print(f"Olasılık: %{confidence:.2f}")



